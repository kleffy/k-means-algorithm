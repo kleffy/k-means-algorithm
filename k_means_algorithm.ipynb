{
 "cells": [
  {
   "cell_type": "code",
   "execution_count": 1,
   "source": [
    "from scipy.spatial.distance import cdist\r\n",
    "import numpy as np\r\n",
    "from sklearn.datasets import load_digits\r\n",
    "from sklearn.decomposition import PCA\r\n",
    "import matplotlib.pyplot as plt"
   ],
   "outputs": [],
   "metadata": {}
  },
  {
   "cell_type": "code",
   "execution_count": 2,
   "source": [
    "class K_Means:\r\n",
    "\r\n",
    "    def __init__(self, k=2, n_iterations=100):\r\n",
    "        self.k = k\r\n",
    "        self.n_iterations = n_iterations\r\n",
    "\r\n",
    "    def fit(self, data):\r\n",
    "        self.centroids = self._get_initial_centroids(data)\r\n",
    "        self.distances = self._calculate_distance_btw_centroids_and_points(data, self.centroids)\r\n",
    "        self.points = self._assign_data_point_to_closest_centroid(self.distances)\r\n",
    "        self.points, self.centroids = self._update_centroid_location(data, self.points)\r\n",
    "        #print(f'print centroids from fit - {self.centroids}')\r\n",
    "        return self.points, self.centroids\r\n",
    "\r\n",
    "    def _get_initial_centroids(self, data):\r\n",
    "        random_idx = np.random.choice(len(data), self.k, replace=False)\r\n",
    "        return data[random_idx, :]\r\n",
    "\r\n",
    "    def _calculate_distance_btw_centroids_and_points(self, data, centroids, metric='euclidean'):\r\n",
    "        return cdist(data, centroids, metric)\r\n",
    "\r\n",
    "    def _assign_data_point_to_closest_centroid(self, distances):\r\n",
    "        points = np.array([np.argmin(i) for i in distances])\r\n",
    "        return points\r\n",
    "\r\n",
    "    def _update_centroid_location(self, data, points):\r\n",
    "        for _ in range(self.n_iterations):\r\n",
    "            centroids = []\r\n",
    "            for i in range(self.k):\r\n",
    "                #updating centroids\r\n",
    "                tmp_centroids = data[points == i].mean(axis=0)\r\n",
    "                centroids.append(tmp_centroids)\r\n",
    "            \r\n",
    "            centroids = np.vstack(centroids)\r\n",
    "            distances = self._calculate_distance_btw_centroids_and_points(data, centroids)\r\n",
    "            points = self._assign_data_point_to_closest_centroid(distances)\r\n",
    "        # print(f'final points - {points}')\r\n",
    "        # print(f'final centroids - {centroids}')\r\n",
    "        return points, centroids"
   ],
   "outputs": [],
   "metadata": {}
  },
  {
   "cell_type": "code",
   "execution_count": 3,
   "source": [
    "#test the algorithm\r\n",
    "from sklearn.datasets.samples_generator import make_blobs\r\n",
    "X, y = make_blobs(n_samples=1000, centers=4, random_state=1)\r\n",
    "\r\n",
    "pca = PCA(2)\r\n",
    "df = pca.fit_transform(X)\r\n",
    "\r\n",
    "\r\n",
    "kmean = K_Means(k=4,n_iterations=500)\r\n",
    "label, centroids = kmean.fit(df)\r\n",
    " \r\n",
    "#Visualize the results\r\n",
    " \r\n",
    "u_labels = np.unique(label)\r\n",
    "for i in u_labels:\r\n",
    "    plt.scatter(df[label == i , 0] , df[label == i , 1] , label = i)\r\n",
    "plt.legend()\r\n",
    "plt.show()"
   ],
   "outputs": [
    {
     "output_type": "stream",
     "name": "stderr",
     "text": [
      "C:\\ProgramData\\Anaconda3\\envs\\ml\\lib\\site-packages\\sklearn\\utils\\deprecation.py:143: FutureWarning: The sklearn.datasets.samples_generator module is  deprecated in version 0.22 and will be removed in version 0.24. The corresponding classes / functions should instead be imported from sklearn.datasets. Anything that cannot be imported from sklearn.datasets is now part of the private API.\n",
      "  warnings.warn(message, FutureWarning)\n"
     ]
    },
    {
     "output_type": "display_data",
     "data": {
      "image/png": "[encoded data removed]",
      "text/plain": [
       "<Figure size 432x288 with 1 Axes>"
      ]
     },
     "metadata": {
      "needs_background": "light"
     }
    }
   ],
   "metadata": {}
  },
  {
   "cell_type": "code",
   "execution_count": 4,
   "source": [
    "centroids"
   ],
   "outputs": [
    {
     "output_type": "execute_result",
     "data": {
      "text/plain": [
       "array([[-2.96633123,  2.53893586],\n",
       "       [-0.41335881, -0.24796016],\n",
       "       [ 8.47541857, -0.33593259],\n",
       "       [-5.06808526, -2.09608901]])"
      ]
     },
     "metadata": {},
     "execution_count": 4
    }
   ],
   "metadata": {}
  }
 ],
 "metadata": {
  "orig_nbformat": 4,
  "language_info": {
   "name": "python",
   "version": "3.8.5",
   "mimetype": "text/x-python",
   "codemirror_mode": {
    "name": "ipython",
    "version": 3
   },
   "pygments_lexer": "ipython3",
   "nbconvert_exporter": "python",
   "file_extension": ".py"
  },
  "kernelspec": {
   "name": "python3",
   "display_name": "Python 3.8.5 64-bit ('ml': conda)"
  },
  "interpreter": {
   "hash": "04a20cc0f25f2654a5fc5715c026c4c293afbc25926c593c301cab56769943bf"
  }
 },
 "nbformat": 4,
 "nbformat_minor": 2
}